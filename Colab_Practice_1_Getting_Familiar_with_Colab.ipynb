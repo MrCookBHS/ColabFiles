{
  "nbformat": 4,
  "nbformat_minor": 0,
  "metadata": {
    "colab": {
      "provenance": [],
      "authorship_tag": "ABX9TyO9lCYeNnD0IKTFKourNBaS",
      "include_colab_link": true
    },
    "kernelspec": {
      "name": "python3",
      "display_name": "Python 3"
    },
    "language_info": {
      "name": "python"
    }
  },
  "cells": [
    {
      "cell_type": "markdown",
      "metadata": {
        "id": "view-in-github",
        "colab_type": "text"
      },
      "source": [
        "<a href=\"https://colab.research.google.com/github/MrCookBHS/ColabFiles/blob/main/Colab_Practice_1_Getting_Familiar_with_Colab.ipynb\" target=\"_parent\"><img src=\"https://colab.research.google.com/assets/colab-badge.svg\" alt=\"Open In Colab\"/></a>"
      ]
    },
    {
      "cell_type": "markdown",
      "source": [
        "#Welcome to Google Colab! This is an interactive notebook that allows you to write and execute Python code."
      ],
      "metadata": {
        "id": "a6Ci12orNPfE"
      }
    },
    {
      "cell_type": "markdown",
      "source": [
        "##Part 1 - Text vs. Code Cells"
      ],
      "metadata": {
        "id": "r2bs8uCw6f-T"
      }
    },
    {
      "cell_type": "markdown",
      "source": [
        "There are 2 different types of cells in Google Colab - Text cells and code cells. This is a text cell.\n",
        "\n",
        "The next 2 cells are code cells. To run the code, click in the cell & press \"Shift + Enter\", or click the play button to the left of the cell."
      ],
      "metadata": {
        "id": "xngrg7Dh3O5V"
      }
    },
    {
      "cell_type": "code",
      "source": [
        "print(\"Hello World!\")"
      ],
      "metadata": {
        "id": "yOHJyqRH3Uls"
      },
      "execution_count": null,
      "outputs": []
    },
    {
      "cell_type": "code",
      "source": [
        "import random\n",
        "import matplotlib.pyplot as plot\n",
        "\n",
        "# Getting user input\n",
        "numRolls = int(input(\"Welcome to Mr. Cook's dice roller! How many times would you like to roll the die? \"))\n",
        "\n",
        "# Initializing all of the counter variables to zero\n",
        "num1s = 0\n",
        "num2s = 0\n",
        "num3s = 0\n",
        "num4s = 0\n",
        "num5s = 0\n",
        "num6s = 0\n",
        "# Count the number of appearances of each digit in the loop\n",
        "for i in range(0, numRolls):\n",
        "  randNum = random.randrange(1,7)\n",
        "  if(randNum == 1):\n",
        "    num1s += 1\n",
        "  elif(randNum == 2):\n",
        "    num2s += 1\n",
        "  elif(randNum == 3):\n",
        "    num3s += 1\n",
        "  elif(randNum == 4):\n",
        "    num4s += 1\n",
        "  elif(randNum == 5):\n",
        "    num5s += 1\n",
        "  else:\n",
        "    num6s += 1\n",
        "\n",
        "# Display the results in a nicely formatted table\n",
        "print(f'\\n{\"Digit\"}{\"Number of times generated\":>30}')\n",
        "print(f'{\"1\":>3}{num1s:>15}')\n",
        "print(f'{\"2\":>3}{num2s:>15}')\n",
        "print(f'{\"3\":>3}{num3s:>15}')\n",
        "print(f'{\"4\":>3}{num4s:>15}')\n",
        "print(f'{\"5\":>3}{num5s:>15}')\n",
        "print(f'{\"6\":>3}{num6s:>15}\\n')\n",
        "\n",
        "# Display the results in a bar chart\n",
        "figure = plot.figure()  # start with a blank figure\n",
        "axes = figure.add_axes([0,0,1,1])\n",
        "labels = ['1','2','3','4','5','6']\n",
        "values = [num1s,num2s,num3s,num4s,num5s,num6s]\n",
        "axes.bar(labels,values)\n",
        "axes.set_title(f'Distribution of {numRolls} dice rolls')\n",
        "plot.show()"
      ],
      "metadata": {
        "id": "xP9NELYj3w9A"
      },
      "execution_count": null,
      "outputs": []
    },
    {
      "cell_type": "markdown",
      "source": [
        "##Part 2 - Variables in Python\n"
      ],
      "metadata": {
        "id": "SXaJVKo_qTuv"
      }
    },
    {
      "cell_type": "markdown",
      "source": [
        "You don't need to use ANY keyword (like *var*) to make a variable in python. Here are 4 different variables I've declared and initialized:\n",
        "\n",
        "```\n",
        "myVar = True\n",
        "mySecondVar = 7\n",
        "foo = \"Hello\"\n",
        "potato = 6.7835\n",
        "```\n"
      ],
      "metadata": {
        "id": "VgLB7KS2srj-"
      }
    },
    {
      "cell_type": "markdown",
      "source": [
        "---\n",
        "\n",
        "###YOUR TURN #1"
      ],
      "metadata": {
        "id": "d_nvYnCs8Kj7"
      }
    },
    {
      "cell_type": "markdown",
      "source": [
        "In the blank code cell below, create a variable called *myFirstVariable* and assign it the value of \"yay\". Create a 2nd variable called *mySecondVariable* and assign it the value of 7."
      ],
      "metadata": {
        "id": "sI_ukRVk_a2s"
      }
    },
    {
      "cell_type": "code",
      "source": [],
      "metadata": {
        "id": "rPtkn3GnNPTV"
      },
      "execution_count": 19,
      "outputs": []
    },
    {
      "cell_type": "code",
      "source": [
        "# Run this cell to TEST your code. It should print out 2 green check marks. DO NOT MODIFY THIS CODE!!!\n",
        "if myFirstVariable == \"yay\":\n",
        "  print(\"✅ myFirstVariable is correct!\")\n",
        "else:\n",
        "  print(f\"❌ Your code has myFirstVariable = {myFirstVariable}. This is incorrect.\")\n",
        "if mySecondVariable == 7:\n",
        "  print(\"✅ mySecondVariable is correct!\")\n",
        "else:\n",
        "  print(f\"❌ Your code has mySecondVariable = {mySecondVariable}. This is incorrect.\")"
      ],
      "metadata": {
        "id": "2KudMduUNn_T"
      },
      "execution_count": null,
      "outputs": []
    },
    {
      "cell_type": "markdown",
      "source": [
        "\n",
        "---\n",
        "\n",
        "###YOUR TURN #2\n",
        "\n"
      ],
      "metadata": {
        "id": "JuFpTn4A-yoT"
      }
    },
    {
      "cell_type": "markdown",
      "source": [
        "To get user input, we can use the built-in *input* command like this:\n",
        "\n",
        "> myVar = input(\"Enter something: \")\n",
        "\n",
        "In the blank code cell below, ask the user for input and store it in a variable called *userInput*, then print it out. We can print variables like so:\n",
        "\n",
        "> print(myVar)"
      ],
      "metadata": {
        "id": "X9rI-YMR_jsj"
      }
    },
    {
      "cell_type": "code",
      "source": [
        "userInput = input(\"Please enter something:\")\n",
        "print(userInput)"
      ],
      "metadata": {
        "id": "EUZSFFtSsapn"
      },
      "execution_count": null,
      "outputs": []
    },
    {
      "cell_type": "code",
      "source": [
        "# Run this cell to TEST your code. It should print out a green check mark. DO NOT MODIFY THIS CODE!!!\n",
        "if userInput != \"\":\n",
        "  print(\"✅ You stored some user input in the variable userInput!\")\n",
        "else:\n",
        "  print(\"❌ Your userInput variable has nothing in it! Did you leave it blank?\")"
      ],
      "metadata": {
        "id": "QTB3mLnxAi-x"
      },
      "execution_count": null,
      "outputs": []
    },
    {
      "cell_type": "markdown",
      "source": [
        "## Part 3 - Functions in Python"
      ],
      "metadata": {
        "id": "FWwytTRWDLMH"
      }
    },
    {
      "cell_type": "markdown",
      "source": [
        "Pyret misled us. It used the keyword *fun* to create a function. In Python, the actually keyword is *def*\n",
        "\n",
        "\n",
        "\n",
        "```\n",
        "def myFunction():\n",
        "    print(\"Line 1 of my function\")\n",
        "    print(\"Line 2 of my function\")\n",
        "```\n",
        "\n",
        "This defines the function. But the function doesn't do anything unless you call it! We can call it like so:\n",
        "```\n",
        "myFunction()\n",
        "```\n",
        "\n",
        "In Python, you must call your functions **after** you define them!\n",
        "\n"
      ],
      "metadata": {
        "id": "Ek-jAj2TDP0t"
      }
    },
    {
      "cell_type": "markdown",
      "source": [
        "---\n",
        "\n",
        "###YOUR TURN #3"
      ],
      "metadata": {
        "id": "dJyDtTBlEaQX"
      }
    },
    {
      "cell_type": "code",
      "source": [],
      "metadata": {
        "id": "d8avJLb-EIlk"
      },
      "execution_count": null,
      "outputs": []
    },
    {
      "cell_type": "markdown",
      "source": [
        "##Extra - Linux Commands"
      ],
      "metadata": {
        "id": "Cj9Rjez4wCdO"
      }
    },
    {
      "cell_type": "markdown",
      "source": [
        "As a side note, our Linux terminal commands also work in this environment. Run the cells below to see for yourself!\n",
        "\n",
        "Note:\n",
        "\n",
        "*   All commands with a ! symbol\n",
        "*   However, **cd** starts with a % symbol"
      ],
      "metadata": {
        "id": "S9v6icHrwIcy"
      }
    },
    {
      "cell_type": "code",
      "source": [
        "!pwd"
      ],
      "metadata": {
        "id": "13P-Zo_-1mfJ"
      },
      "execution_count": null,
      "outputs": []
    },
    {
      "cell_type": "code",
      "source": [
        "!ls"
      ],
      "metadata": {
        "id": "NJD9-ivrwH1z"
      },
      "execution_count": null,
      "outputs": []
    },
    {
      "cell_type": "code",
      "source": [
        "%cd sample_data"
      ],
      "metadata": {
        "id": "PnTmx7CjwrKp"
      },
      "execution_count": null,
      "outputs": []
    },
    {
      "cell_type": "code",
      "source": [
        "%ls"
      ],
      "metadata": {
        "id": "LAX4yY_5xXC8"
      },
      "execution_count": null,
      "outputs": []
    },
    {
      "cell_type": "code",
      "source": [
        "!cat README.md"
      ],
      "metadata": {
        "id": "n8Cd9sZRwpAo"
      },
      "execution_count": null,
      "outputs": []
    },
    {
      "cell_type": "code",
      "source": [
        "!grep \"American\" README.md"
      ],
      "metadata": {
        "id": "C_w0PRgow3Ny"
      },
      "execution_count": null,
      "outputs": []
    }
  ]
}