{
  "nbformat": 4,
  "nbformat_minor": 0,
  "metadata": {
    "colab": {
      "provenance": [],
      "authorship_tag": "ABX9TyNpfacaIlhoZ9vWXV9zB2F/",
      "include_colab_link": true
    },
    "kernelspec": {
      "name": "python3",
      "display_name": "Python 3"
    },
    "language_info": {
      "name": "python"
    }
  },
  "cells": [
    {
      "cell_type": "markdown",
      "metadata": {
        "id": "view-in-github",
        "colab_type": "text"
      },
      "source": [
        "<a href=\"https://colab.research.google.com/github/MrCookBHS/ColabFiles/blob/main/Colab_Practice_1_Getting_Familiar_with_Colab.ipynb\" target=\"_parent\"><img src=\"https://colab.research.google.com/assets/colab-badge.svg\" alt=\"Open In Colab\"/></a>"
      ]
    },
    {
      "cell_type": "markdown",
      "source": [
        "Create a program that returns true if a number is even and false if a number is odd"
      ],
      "metadata": {
        "id": "a6Ci12orNPfE"
      }
    },
    {
      "cell_type": "code",
      "source": [
        "def roll():\n",
        "  return 5"
      ],
      "metadata": {
        "id": "rPtkn3GnNPTV"
      },
      "execution_count": 6,
      "outputs": []
    },
    {
      "cell_type": "code",
      "source": [
        "# TEST CASE: This cell should not deliver any errors when this cell is run\n",
        "singleRoll = roll()\n",
        "assert singleRoll <= 6 and singleRoll >= 1, f'Not quite. Your roll value {singleRoll}'"
      ],
      "metadata": {
        "id": "2KudMduUNn_T"
      },
      "execution_count": 7,
      "outputs": []
    },
    {
      "cell_type": "code",
      "source": [],
      "metadata": {
        "id": "E-UW_VfwNsPF"
      },
      "execution_count": null,
      "outputs": []
    }
  ]
}